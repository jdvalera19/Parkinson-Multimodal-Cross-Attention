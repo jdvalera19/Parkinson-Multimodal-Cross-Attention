{
 "cells": [
  {
   "cell_type": "code",
   "execution_count": 1,
   "metadata": {},
   "outputs": [],
   "source": [
    "from Utils.nets import *"
   ]
  },
  {
   "cell_type": "code",
   "execution_count": 2,
   "metadata": {},
   "outputs": [
    {
     "name": "stdout",
     "output_type": "stream",
     "text": [
      "==========================================================================================\n",
      "Precision:0.6007, Recall:0.6407, F1-score:0.6201, Accuraci:0.5093, AUC:0.5611\n",
      "==========================================================================================\n"
     ]
    }
   ],
   "source": [
    "view_results('Results/Note:LOO_data_v2-Lr:1e-05-Epoch:30-Exercise:Words.csv')"
   ]
  },
  {
   "cell_type": "code",
   "execution_count": 3,
   "metadata": {},
   "outputs": [
    {
     "name": "stdout",
     "output_type": "stream",
     "text": [
      "==========================================================================================\n",
      "Precision:0.6995, Recall:0.4741, F1-score:0.5651, Accuraci:0.5440, AUC:0.6315\n",
      "==========================================================================================\n"
     ]
    }
   ],
   "source": [
    "view_results('/home/brayan/audiovisualpk/Results/Note:LOO_data_v2-Lr:1e-07-Epoch:10-Exercise:Words.csv')"
   ]
  },
  {
   "cell_type": "code",
   "execution_count": null,
   "metadata": {},
   "outputs": [],
   "source": []
  }
 ],
 "metadata": {
  "kernelspec": {
   "display_name": "Python 3.7.13 ('base')",
   "language": "python",
   "name": "python3"
  },
  "language_info": {
   "codemirror_mode": {
    "name": "ipython",
    "version": 3
   },
   "file_extension": ".py",
   "mimetype": "text/x-python",
   "name": "python",
   "nbconvert_exporter": "python",
   "pygments_lexer": "ipython3",
   "version": "3.7.13"
  },
  "orig_nbformat": 4,
  "vscode": {
   "interpreter": {
    "hash": "d4d1e4263499bec80672ea0156c357c1ee493ec2b1c70f0acce89fc37c4a6abe"
   }
  }
 },
 "nbformat": 4,
 "nbformat_minor": 2
}
